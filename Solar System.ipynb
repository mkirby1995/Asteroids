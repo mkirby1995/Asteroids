{
 "cells": [
  {
   "cell_type": "code",
   "execution_count": 6,
   "metadata": {},
   "outputs": [],
   "source": [
    "class Body:\n",
    "    # Cartesian coordinates\n",
    "    rx: float\n",
    "    ry: float\n",
    "        \n",
    "    # Velocity Components\n",
    "    vx: float\n",
    "    vy: float\n",
    "        \n",
    "    # Force components\n",
    "    fx: float = 0.0\n",
    "    fy: float = 0.0\n",
    "        \n",
    "    mass = float\n",
    "    \n",
    "    def __init__(self, rx: float, ry: float,\n",
    "                 vx: float, vy:float,\n",
    "                 mass: float):\n",
    "        self.rx = rx\n",
    "        self.ry = ry\n",
    "        self.vx = vx\n",
    "        self.vy = vy\n",
    "        self.mass = mass\n",
    "        \n",
    "        \n",
    "    def __str__(self):\n",
    "        return \"{}, {}, {}, {}, {}\".format(\n",
    "        self.rx, self.ry, self.vx, self.vy, self.mass)\n",
    "        \n",
    "        "
   ]
  },
  {
   "cell_type": "code",
   "execution_count": 7,
   "metadata": {},
   "outputs": [],
   "source": [
    "Earth = Body(3, 5, 22, 22, 31)"
   ]
  },
  {
   "cell_type": "raw",
   "metadata": {},
   "source": []
  },
  {
   "cell_type": "code",
   "execution_count": null,
   "metadata": {},
   "outputs": [],
   "source": []
  }
 ],
 "metadata": {
  "kernelspec": {
   "display_name": "Python 3",
   "language": "python",
   "name": "python3"
  },
  "language_info": {
   "codemirror_mode": {
    "name": "ipython",
    "version": 3
   },
   "file_extension": ".py",
   "mimetype": "text/x-python",
   "name": "python",
   "nbconvert_exporter": "python",
   "pygments_lexer": "ipython3",
   "version": "3.6.7"
  }
 },
 "nbformat": 4,
 "nbformat_minor": 2
}
